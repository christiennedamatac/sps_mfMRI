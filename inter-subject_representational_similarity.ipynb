{
 "cells": [
  {
   "cell_type": "markdown",
   "id": "6c80f9f1",
   "metadata": {},
   "source": [
    "# Compute Intersubject Representational Similarity Analysis (IS-RSA)"
   ]
  },
  {
   "cell_type": "markdown",
   "id": "09daeaaa",
   "metadata": {},
   "source": [
    "https://naturalistic-data.org/content/Intersubject_RSA.html#compute-intersubject-representational-similarity-analysis-is-rsa"
   ]
  },
  {
   "cell_type": "markdown",
   "id": "0067041b",
   "metadata": {},
   "source": [
    "Explore that structure of the variations in the pairwise relationships with IS-RSA. This is computed using representational similarity analysis, where we vectorize the lower triangle of the pairwise neural ISC and correlate it with the vectorized lower triangle of the pairwise behavioral ISC. Because we don?t necessarily assume that there will be a linear relatoinship, particularly as we using different distance metrics (i.e., correlation and euclidean distance), we typically use Spearman ranked correlations."
   ]
  },
  {
   "cell_type": "markdown",
   "id": "053b6283",
   "metadata": {},
   "source": [
    "Loop over nodes and compute the similarity between the brain and each of the competing hypotheses reflected in the Nearest Neighbor (i.e., Euclidean) matrices."
   ]
  },
  {
   "cell_type": "code",
   "execution_count": null,
   "id": "b23f5994",
   "metadata": {},
   "outputs": [],
   "source": [
    "isrsa_nn, isrsa_annak = {}, {}\n",
    "for node in range(len(similarity_matrices)):\n",
    "    isrsa_nn[node] = similarity_matrices[node].similarity(behav_sim_nn, metric='spearman', n_permute=1, n_jobs=1 )['correlation']\n",
    "    isrsa_annak[node] = similarity_matrices[node].similarity(behav_sim_annak, metric='spearman', n_permute=1, n_jobs=1 )['correlation']\n",
    "\n",
    "isrsa_nn_brain = roi_to_brain(pd.Series(isrsa_nn), expand_mask(mask))\n",
    "isrsa_annak_brain = roi_to_brain(pd.Series(isrsa_annak), expand_mask(mask))"
   ]
  },
  {
   "cell_type": "markdown",
   "id": "1f7176fb",
   "metadata": {},
   "source": [
    "Plot the correlation values back on the brain"
   ]
  },
  {
   "cell_type": "code",
   "execution_count": null,
   "id": "dbb2a71b",
   "metadata": {},
   "outputs": [],
   "source": [
    "# Find the max absolute magnitude r_val across both sets of results so we can plot using the same colorscale\n",
    "vmax = np.max(np.abs([list(isrsa_nn.values()), list(isrsa_annak.values())]))\n",
    "\n",
    "plot_stat_map(isrsa_nn_brain.to_nifti(), display_mode='z', cut_coords=8, vmax=vmax, title = \"NN\", cmap='RdBu_r')\n",
    "plot_stat_map(isrsa_annak_brain.to_nifti(), display_mode='z', cut_coords=8, vmax=vmax, title = \"AnnaK\", cmap='RdBu_r')"
   ]
  },
  {
   "cell_type": "markdown",
   "id": "e71ebe68",
   "metadata": {},
   "source": [
    "## Hypothesis tests"
   ]
  },
  {
   "cell_type": "markdown",
   "id": "866d3667",
   "metadata": {},
   "source": [
    "The values in each matrix are not independent: each value is associated with two subjects, meaning that any two values that share a row or column are not independent. In other words, the value for (i,j) is not independent from the value for (i,k), since they share subject i. This means that we need to calculate significance non-parametrically, by randomly shuffling one of the matrices in a way that respects this complicated dependence structure. We can do this by simply making sure we permute rows and columns at the same time. "
   ]
  },
  {
   "cell_type": "code",
   "execution_count": null,
   "id": "6ac33d1d",
   "metadata": {},
   "outputs": [],
   "source": [
    "isrsa_nn_r, isrsa_nn_p = {}, {}\n",
    "isrsa_annak_r, isrsa_annak_p = {}, {}\n",
    "for node in range(len(similarity_matrices)):\n",
    "    if node==0:\n",
    "        print(\"Doing node {} of {}...\".format(node+1, len(similarity_matrices)), end =\" \")\n",
    "    else:\n",
    "        print(\"{}..\".format(node+1), end = \" \")\n",
    "    stats_nn = similarity_matrices[node].similarity(behav_sim_nn, metric='spearman', n_permute=5000, n_jobs=-1 )\n",
    "    isrsa_nn_r[node] = stats_nn['correlation']\n",
    "    isrsa_nn_p[node] = stats_nn['p']\n",
    "    \n",
    "    stats_annak = similarity_matrices[node].similarity(behav_sim_annak, metric='spearman', n_permute=5000, n_jobs=-1 )\n",
    "    isrsa_annak_r[node] = stats_annak['correlation']\n",
    "    isrsa_annak_p[node] = stats_annak['p']\n",
    "\n",
    "isrsa_nn_r_brain = roi_to_brain(pd.Series(isrsa_nn_r), expand_mask(mask))\n",
    "isrsa_nn_p_brain = roi_to_brain(pd.Series(isrsa_nn_p), expand_mask(mask))\n",
    "\n",
    "isrsa_annak_r_brain = roi_to_brain(pd.Series(isrsa_annak_r), expand_mask(mask))\n",
    "isrsa_annak_p_brain = roi_to_brain(pd.Series(isrsa_annak_p), expand_mask(mask))"
   ]
  },
  {
   "cell_type": "markdown",
   "id": "6a37181d",
   "metadata": {},
   "source": [
    "#### Plot"
   ]
  },
  {
   "cell_type": "code",
   "execution_count": null,
   "id": "78f1eb0e",
   "metadata": {},
   "outputs": [],
   "source": [
    "print('Nearest-Neighbor Model')\n",
    "view_img(isrsa_nn_r_brain.to_nifti())"
   ]
  },
  {
   "cell_type": "markdown",
   "id": "66b7316f",
   "metadata": {},
   "source": [
    "### Correct for multiple comparisons with false discovery rate (for individual nodes)"
   ]
  },
  {
   "cell_type": "code",
   "execution_count": null,
   "id": "f538a0b9",
   "metadata": {},
   "outputs": [],
   "source": [
    "fdr_thr = fdr(pd.Series(isrsa_nn_p).values)\n",
    "print(f'FDR Threshold: {fdr_thr}')\n",
    "\n",
    "view_img(threshold(isrsa_nn_r_brain, isrsa_nn_p_brain, thr=fdr_thr).to_nifti())"
   ]
  }
 ],
 "metadata": {
  "kernelspec": {
   "display_name": "Python 3",
   "language": "python",
   "name": "python3"
  },
  "language_info": {
   "codemirror_mode": {
    "name": "ipython",
    "version": 3
   },
   "file_extension": ".py",
   "mimetype": "text/x-python",
   "name": "python",
   "nbconvert_exporter": "python",
   "pygments_lexer": "ipython3",
   "version": "3.8.8"
  }
 },
 "nbformat": 4,
 "nbformat_minor": 5
}
